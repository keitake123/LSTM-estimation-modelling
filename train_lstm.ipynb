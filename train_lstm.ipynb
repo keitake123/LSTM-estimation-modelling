{
  "cells": [
    {
      "cell_type": "code",
      "execution_count": 2,
      "metadata": {
        "id": "S5sJNikSNbn1"
      },
      "outputs": [
        {
          "ename": "ModuleNotFoundError",
          "evalue": "No module named 'torch'",
          "output_type": "error",
          "traceback": [
            "\u001b[0;31m---------------------------------------------------------------------------\u001b[0m",
            "\u001b[0;31mModuleNotFoundError\u001b[0m                       Traceback (most recent call last)",
            "Cell \u001b[0;32mIn[2], line 3\u001b[0m\n\u001b[1;32m      1\u001b[0m \u001b[38;5;28;01mimport\u001b[39;00m \u001b[38;5;21;01mcsv\u001b[39;00m\n\u001b[1;32m      2\u001b[0m \u001b[38;5;28;01mimport\u001b[39;00m \u001b[38;5;21;01mglob\u001b[39;00m\n\u001b[0;32m----> 3\u001b[0m \u001b[38;5;28;01mimport\u001b[39;00m \u001b[38;5;21;01mtorch\u001b[39;00m\n\u001b[1;32m      4\u001b[0m \u001b[38;5;28;01mimport\u001b[39;00m \u001b[38;5;21;01mtorch\u001b[39;00m\u001b[38;5;21;01m.\u001b[39;00m\u001b[38;5;21;01mnn\u001b[39;00m \u001b[38;5;28;01mas\u001b[39;00m \u001b[38;5;21;01mnn\u001b[39;00m\n\u001b[1;32m      5\u001b[0m \u001b[38;5;28;01mimport\u001b[39;00m \u001b[38;5;21;01mtorch\u001b[39;00m\u001b[38;5;21;01m.\u001b[39;00m\u001b[38;5;21;01mnn\u001b[39;00m\u001b[38;5;21;01m.\u001b[39;00m\u001b[38;5;21;01mfunctional\u001b[39;00m \u001b[38;5;28;01mas\u001b[39;00m \u001b[38;5;21;01mF\u001b[39;00m\n",
            "\u001b[0;31mModuleNotFoundError\u001b[0m: No module named 'torch'"
          ]
        }
      ],
      "source": [
        "import csv\n",
        "import glob\n",
        "import torch\n",
        "import torch.nn as nn\n",
        "import torch.nn.functional as F\n",
        "import torchvision\n",
        "import torchvision.transforms as transforms\n",
        "import numpy as np\n",
        "import torch.optim as optim\n",
        "\n",
        "file_names = glob.glob(\"data/*.csv\")\n",
        "classes = ['Wipe', 'Sweep', 'Rub', 'Insert', 'Other']\n",
        "batch_size = 256\n",
        "\n",
        "train_data = []\n",
        "train_label = []\n",
        "num_traind = 0\n",
        "for file in file_names:\n",
        "    with open(file) as f:\n",
        "        reader = csv.reader(f)\n",
        "        num_dim = 0\n",
        "        for row in reader:\n",
        "            if num_dim == 0:\n",
        "                num_data = len(train_data)\n",
        "                train_data.append([[], [], []])\n",
        "            train_data[num_data][0].append(row[2])  #x軸の加速度データを入れる\n",
        "            train_data[num_data][1].append(row[3])  #y軸の加速度データを入れる\n",
        "            train_data[num_data][2].append(row[4])  #z軸の加速度データを入れる\n",
        "            num_dim += 1\n",
        "            if num_dim == 200:\n",
        "                index = classes.index(row[5])\n",
        "                train_label.append(index)\n",
        "                num_dim = 0\n",
        "                num_traind += 1\n",
        "                if ('nan' in train_data[num_data][0]) or ('nan' in train_data[num_data][1]) or ('nan' in train_data[num_data][2]):\n",
        "                    train_data.pop(num_data)\n",
        "                    train_label.pop(num_data)\n",
        "                if 200 * num_traind >= 30000:\n",
        "                    num_traind = 0\n",
        "                    break\n",
        "\n",
        "train_data = np.array(train_data, dtype=np.int64)\n",
        "train_label = np.array(train_label, dtype=np.int64)\n",
        "\n",
        "train_data = torch.tensor(train_data, dtype=torch.float32)\n",
        "train_label = torch.tensor(train_label, dtype=torch.int64)\n",
        "train_dataset = torch.utils.data.TensorDataset(train_data, train_label)\n",
        "\n",
        "train_loader = torch.utils.data.DataLoader(train_dataset, batch_size=batch_size, shuffle=True, num_workers=2)"
      ]
    },
    {
      "cell_type": "code",
      "execution_count": null,
      "metadata": {
        "id": "D2IcMxr2Nbn8"
      },
      "outputs": [],
      "source": [
        "class LSTM(nn.Module):\n",
        "\n",
        "    def __init__(self):\n",
        "\n",
        "        super(LSTM, self).__init__()\n",
        "        self.seq_len = 200 # XYZ軸を時系列のSequenceとしてLSTMに入力する\n",
        "        self.feature_size = 3 # 1つの軸当たりの特徴量の次元としてLSTMに入力する\n",
        "        self.hidden_layer_size = 100 # 隠れ層のサイズ\n",
        "        self.lstm_layers = 1 # LSTMのレイヤー数　(LSTMを何層重ねるか)\n",
        "        self.lstm = nn.LSTM(self.feature_size, self.hidden_layer_size, num_layers = self.lstm_layers)\n",
        "        self.fc = nn.Linear(self.hidden_layer_size, 10)\n",
        "\n",
        "    def init_hidden_cell(self, batch_size): # LSTMの隠れ層 hidden と記憶セル cell を初期化\n",
        "        hedden = torch.zeros(self.lstm_layers, batch_size, self.hidden_layer_size, device=x.device)\n",
        "        cell = torch.zeros(self.lstm_layers, batch_size, self.hidden_layer_size, device=x.device)\n",
        "        return (hedden, cell)\n",
        "\n",
        "    def forward(self, x):\n",
        "        batch_size = x.shape[0]\n",
        "        # print(batch_size)\n",
        "\n",
        "        hedden = torch.zeros(self.lstm_layers, batch_size, self.hidden_layer_size, device=x.device)\n",
        "        cell = torch.zeros(self.lstm_layers, batch_size, self.hidden_layer_size, device=x.device)\n",
        "        self.hidden_cell = (hedden, cell)\n",
        "\n",
        "        # print(x.size())\n",
        "        x = x.view(batch_size, self.seq_len, self.feature_size)  # (Batch, Cannel, Height, Width) -> (Batch, Height, Width) = (Batch, Seqence, Feature)\n",
        "                                                                 # 画像の Height を時系列のSequenceに、Width を特徴量の次元としてLSTMに入力する\n",
        "        # print(x.size())\n",
        "        x = x.permute(1, 0, 2)                                   # (Batch, Seqence, Feature) -> (Seqence , Batch, Feature)\n",
        "\n",
        "        lstm_out, (h_n, c_n) = self.lstm(x, self.hidden_cell)    # LSTMの入力データのShapeは(Seqence, Batch, Feature)\n",
        "                                                                 # (h_n) のShapeは (num_layers, batch, hidden_size)\n",
        "        x = h_n[-1,:,:]                                          # lstm_layersの最後のレイヤーを取り出す  (B, h)\n",
        "        x = self.fc(x)\n",
        "\n",
        "        return x\n"
      ]
    },
    {
      "cell_type": "code",
      "execution_count": null,
      "metadata": {
        "id": "4uR_VKdLNbn_"
      },
      "outputs": [],
      "source": [
        "device = torch.device('cuda:0' if torch.cuda.is_available() else 'cpu')\n",
        "#モデル作成\n",
        "net = LSTM().to(device)   # GPUを使用する場合のために明示的に .to(device) を指定\n",
        "# nn.CrossEntropyLoss() はソフトマックス関数＋クロスエントロピー誤差\n",
        "criterion = nn.CrossEntropyLoss()\n",
        "optimizer = optim.Adam(net.parameters(), lr=0.001)\n",
        "\n",
        "num_epochs = 100\n",
        "for epoch in range(num_epochs):\n",
        "  print('Epoch {}/{}'.format(epoch+1, num_epochs))\n",
        "  print('-------------')\n",
        "\n",
        "  epoch_loss = 0.0  # epochの損失和\n",
        "  epoch_corrects = 0  # epochの正解数\n",
        "  epoch_train_loss = 0\n",
        "  epoch_train_acc = 0\n",
        "\n",
        "  net.train()\n",
        "  # データローダーからミニバッチを取り出すループ\n",
        "  for data in train_loader:\n",
        "\n",
        "      # GPUを使用する場合は明示的に指定\n",
        "      inputs = data[0].to(device)\n",
        "      labels = data[1].to(device)\n",
        "\n",
        "      # optimizerを初期化\n",
        "      optimizer.zero_grad()\n",
        "\n",
        "      # 順伝搬（forward）計算\n",
        "      outputs = net(inputs)              # 順伝播\n",
        "      loss = criterion(outputs, labels)  # 損失を計算\n",
        "      _, preds = torch.max(outputs, 1)   # ラベルを予測\n",
        "      print(preds[0].item())\n",
        "\n",
        "      # バックプロパゲーション\n",
        "      loss.backward()\n",
        "      optimizer.step()\n",
        "\n",
        "      # イタレーション結果の計算\n",
        "      # lossの合計を更新\n",
        "      # epoch_loss += loss.item() * inputs.size(0)\n",
        "      # 正解数の合計を更新\n",
        "      # epoch_corrects += torch.sum(preds == labels.data)\n",
        "      epoch_train_loss += loss.item()/len(train_loader)\n",
        "      acc = (outputs.argmax(dim=1) == labels).float().mean()\n",
        "      epoch_train_acc += acc/len(train_loader)\n",
        "\n",
        "  # epochごとのlossと正解率を表示\n",
        "  # epoch_loss = epoch_loss / len(train_loader)\n",
        "  # epoch_acc = epoch_corrects.double() / len(train_loader)\n",
        "\n",
        "  net.eval()\n",
        "  # print('Loss: {:.4f} Acc: {:.4f}'.format(epoch_loss, epoch_acc))\n",
        "  print(f'Epoch {epoch+1} : train acc. {epoch_train_acc:.4f} train loss {epoch_train_loss:.4f}')"
      ]
    },
    {
      "cell_type": "code",
      "execution_count": null,
      "metadata": {
        "id": "asEezd2DI9-G"
      },
      "outputs": [],
      "source": [
        "model_path = 'model.pth'\n",
        "torch.save(net.to('cpu').state_dict(), model_path)"
      ]
    }
  ],
  "metadata": {
    "accelerator": "GPU",
    "colab": {
      "include_colab_link": true,
      "provenance": []
    },
    "kernelspec": {
      "display_name": "Python 3 (ipykernel)",
      "language": "python",
      "name": "python3"
    },
    "language_info": {
      "codemirror_mode": {
        "name": "ipython",
        "version": 3
      },
      "file_extension": ".py",
      "mimetype": "text/x-python",
      "name": "python",
      "nbconvert_exporter": "python",
      "pygments_lexer": "ipython3",
      "version": "3.12.4"
    }
  },
  "nbformat": 4,
  "nbformat_minor": 0
}
